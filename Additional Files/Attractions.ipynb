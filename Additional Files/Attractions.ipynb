{
 "cells": [
  {
   "cell_type": "code",
   "execution_count": 1,
   "id": "65a34834",
   "metadata": {},
   "outputs": [],
   "source": [
    "import pandas as pd\n",
    "import numpy as np\n",
    "import statistics as stats\n",
    "import matplotlib.pyplot as plt\n",
    "import seaborn as sns"
   ]
  },
  {
   "cell_type": "code",
   "execution_count": 2,
   "id": "a7e406b6",
   "metadata": {},
   "outputs": [],
   "source": [
    "Attractions_df = pd.read_csv('Attractions.csv') #Reading in the CSV file"
   ]
  },
  {
   "cell_type": "markdown",
   "id": "26febeff",
   "metadata": {},
   "source": [
    "# Exploring the data"
   ]
  },
  {
   "cell_type": "code",
   "execution_count": 3,
   "id": "05e6df17",
   "metadata": {},
   "outputs": [
    {
     "data": {
      "text/html": [
       "<div>\n",
       "<style scoped>\n",
       "    .dataframe tbody tr th:only-of-type {\n",
       "        vertical-align: middle;\n",
       "    }\n",
       "\n",
       "    .dataframe tbody tr th {\n",
       "        vertical-align: top;\n",
       "    }\n",
       "\n",
       "    .dataframe thead th {\n",
       "        text-align: right;\n",
       "    }\n",
       "</style>\n",
       "<table border=\"1\" class=\"dataframe\">\n",
       "  <thead>\n",
       "    <tr style=\"text-align: right;\">\n",
       "      <th></th>\n",
       "      <th>_id</th>\n",
       "      <th>Name</th>\n",
       "      <th>Url</th>\n",
       "      <th>Telephone</th>\n",
       "      <th>Longitude</th>\n",
       "      <th>Latitude</th>\n",
       "      <th>AddressRegion</th>\n",
       "      <th>AddressLocality</th>\n",
       "      <th>AddressCountry</th>\n",
       "      <th>Tags</th>\n",
       "    </tr>\n",
       "  </thead>\n",
       "  <tbody>\n",
       "    <tr>\n",
       "      <th>0</th>\n",
       "      <td>NaN</td>\n",
       "      <td>NaN</td>\n",
       "      <td>NaN</td>\n",
       "      <td>NaN</td>\n",
       "      <td>NaN</td>\n",
       "      <td>NaN</td>\n",
       "      <td>NaN</td>\n",
       "      <td>NaN</td>\n",
       "      <td>NaN</td>\n",
       "      <td>NaN</td>\n",
       "    </tr>\n",
       "    <tr>\n",
       "      <th>1</th>\n",
       "      <td>1.0</td>\n",
       "      <td>Dunmore Cave</td>\n",
       "      <td>http://www.heritageireland.ie/en/south-east/du...</td>\n",
       "      <td>+353(0)567767726</td>\n",
       "      <td>-7.246921</td>\n",
       "      <td>52.733968</td>\n",
       "      <td>Kilkenny</td>\n",
       "      <td>Ballyfoyle</td>\n",
       "      <td>Republic of Ireland</td>\n",
       "      <td>Natural Landscape</td>\n",
       "    </tr>\n",
       "    <tr>\n",
       "      <th>2</th>\n",
       "      <td>2.0</td>\n",
       "      <td>Liberty Tree</td>\n",
       "      <td>NaN</td>\n",
       "      <td>+353(0)599130411</td>\n",
       "      <td>-6.929228</td>\n",
       "      <td>52.835025</td>\n",
       "      <td>Carlow</td>\n",
       "      <td>NaN</td>\n",
       "      <td>Republic of Ireland</td>\n",
       "      <td>Public Sculpture</td>\n",
       "    </tr>\n",
       "    <tr>\n",
       "      <th>3</th>\n",
       "      <td>3.0</td>\n",
       "      <td>Clonea Strand Blue Flag Beach 2019</td>\n",
       "      <td>http://www.blueflagireland.org/</td>\n",
       "      <td>NaN</td>\n",
       "      <td>-7.542846</td>\n",
       "      <td>52.096152</td>\n",
       "      <td>Waterford</td>\n",
       "      <td>Clonea</td>\n",
       "      <td>Republic of Ireland</td>\n",
       "      <td>Beach</td>\n",
       "    </tr>\n",
       "    <tr>\n",
       "      <th>4</th>\n",
       "      <td>4.0</td>\n",
       "      <td>Dublinia</td>\n",
       "      <td>https://www.facebook.com/dubliniaviking</td>\n",
       "      <td>+353(0)16794611</td>\n",
       "      <td>-6.272000</td>\n",
       "      <td>53.343123</td>\n",
       "      <td>Dublin</td>\n",
       "      <td>NaN</td>\n",
       "      <td>Republic of Ireland</td>\n",
       "      <td>Museums and Attraction</td>\n",
       "    </tr>\n",
       "    <tr>\n",
       "      <th>5</th>\n",
       "      <td>5.0</td>\n",
       "      <td>St. Audoen's Church</td>\n",
       "      <td>http://www.heritageireland.ie/en/dublin/staudo...</td>\n",
       "      <td>+353(0)16770088</td>\n",
       "      <td>-6.273575</td>\n",
       "      <td>53.343796</td>\n",
       "      <td>Dublin</td>\n",
       "      <td>NaN</td>\n",
       "      <td>Republic of Ireland</td>\n",
       "      <td>Church Abbey,Monastery,Churches,Abbeys and Mon...</td>\n",
       "    </tr>\n",
       "    <tr>\n",
       "      <th>6</th>\n",
       "      <td>6.0</td>\n",
       "      <td>Dalkey Castle &amp; Heritage Centre</td>\n",
       "      <td>http://www.dalkeycastle.com</td>\n",
       "      <td>+353(0)12858366</td>\n",
       "      <td>-6.105461</td>\n",
       "      <td>53.278024</td>\n",
       "      <td>Dublin</td>\n",
       "      <td>Dalkey</td>\n",
       "      <td>Republic of Ireland</td>\n",
       "      <td>Historic Houses and Castle,Castle</td>\n",
       "    </tr>\n",
       "    <tr>\n",
       "      <th>7</th>\n",
       "      <td>7.0</td>\n",
       "      <td>Slieve League Cultural Centre</td>\n",
       "      <td>NaN</td>\n",
       "      <td>+353(0)749739077</td>\n",
       "      <td>-8.641766</td>\n",
       "      <td>54.635811</td>\n",
       "      <td>Donegal</td>\n",
       "      <td>Teelin</td>\n",
       "      <td>Republic of Ireland</td>\n",
       "      <td>Museums and Attraction</td>\n",
       "    </tr>\n",
       "    <tr>\n",
       "      <th>8</th>\n",
       "      <td>8.0</td>\n",
       "      <td>Shackleton Outdoor Education Centre</td>\n",
       "      <td>http://www.colaistedhulaigh.ie</td>\n",
       "      <td>+353(0)18481400</td>\n",
       "      <td>-6.213115</td>\n",
       "      <td>53.396804</td>\n",
       "      <td>Dublin</td>\n",
       "      <td>Coolock</td>\n",
       "      <td>Republic of Ireland</td>\n",
       "      <td>Learning,Museums and Attraction</td>\n",
       "    </tr>\n",
       "    <tr>\n",
       "      <th>9</th>\n",
       "      <td>9.0</td>\n",
       "      <td>The Trinity Tree Dingle</td>\n",
       "      <td>NaN</td>\n",
       "      <td>NaN</td>\n",
       "      <td>-10.271003</td>\n",
       "      <td>52.141565</td>\n",
       "      <td>Kerry</td>\n",
       "      <td>Dingle</td>\n",
       "      <td>Republic of Ireland</td>\n",
       "      <td>Public Sculpture</td>\n",
       "    </tr>\n",
       "  </tbody>\n",
       "</table>\n",
       "</div>"
      ],
      "text/plain": [
       "   _id                                 Name  \\\n",
       "0  NaN                                  NaN   \n",
       "1  1.0                         Dunmore Cave   \n",
       "2  2.0                         Liberty Tree   \n",
       "3  3.0   Clonea Strand Blue Flag Beach 2019   \n",
       "4  4.0                             Dublinia   \n",
       "5  5.0                  St. Audoen's Church   \n",
       "6  6.0      Dalkey Castle & Heritage Centre   \n",
       "7  7.0        Slieve League Cultural Centre   \n",
       "8  8.0  Shackleton Outdoor Education Centre   \n",
       "9  9.0              The Trinity Tree Dingle   \n",
       "\n",
       "                                                 Url         Telephone  \\\n",
       "0                                                NaN               NaN   \n",
       "1  http://www.heritageireland.ie/en/south-east/du...  +353(0)567767726   \n",
       "2                                                NaN  +353(0)599130411   \n",
       "3                    http://www.blueflagireland.org/               NaN   \n",
       "4            https://www.facebook.com/dubliniaviking   +353(0)16794611   \n",
       "5  http://www.heritageireland.ie/en/dublin/staudo...   +353(0)16770088   \n",
       "6                        http://www.dalkeycastle.com   +353(0)12858366   \n",
       "7                                                NaN  +353(0)749739077   \n",
       "8                     http://www.colaistedhulaigh.ie   +353(0)18481400   \n",
       "9                                                NaN               NaN   \n",
       "\n",
       "   Longitude   Latitude AddressRegion AddressLocality       AddressCountry  \\\n",
       "0        NaN        NaN           NaN             NaN                  NaN   \n",
       "1  -7.246921  52.733968      Kilkenny      Ballyfoyle  Republic of Ireland   \n",
       "2  -6.929228  52.835025        Carlow             NaN  Republic of Ireland   \n",
       "3  -7.542846  52.096152     Waterford          Clonea  Republic of Ireland   \n",
       "4  -6.272000  53.343123        Dublin             NaN  Republic of Ireland   \n",
       "5  -6.273575  53.343796        Dublin             NaN  Republic of Ireland   \n",
       "6  -6.105461  53.278024        Dublin          Dalkey  Republic of Ireland   \n",
       "7  -8.641766  54.635811       Donegal          Teelin  Republic of Ireland   \n",
       "8  -6.213115  53.396804        Dublin         Coolock  Republic of Ireland   \n",
       "9 -10.271003  52.141565         Kerry          Dingle  Republic of Ireland   \n",
       "\n",
       "                                                Tags  \n",
       "0                                                NaN  \n",
       "1                                  Natural Landscape  \n",
       "2                                   Public Sculpture  \n",
       "3                                              Beach  \n",
       "4                             Museums and Attraction  \n",
       "5  Church Abbey,Monastery,Churches,Abbeys and Mon...  \n",
       "6                  Historic Houses and Castle,Castle  \n",
       "7                             Museums and Attraction  \n",
       "8                    Learning,Museums and Attraction  \n",
       "9                                   Public Sculpture  "
      ]
     },
     "execution_count": 3,
     "metadata": {},
     "output_type": "execute_result"
    }
   ],
   "source": [
    "Attractions_df.head(10)"
   ]
  },
  {
   "cell_type": "code",
   "execution_count": 4,
   "id": "82d8ec63",
   "metadata": {},
   "outputs": [
    {
     "data": {
      "text/plain": [
       "(2022, 10)"
      ]
     },
     "execution_count": 4,
     "metadata": {},
     "output_type": "execute_result"
    }
   ],
   "source": [
    "Attractions_df.shape"
   ]
  },
  {
   "cell_type": "code",
   "execution_count": 5,
   "id": "ab93b97a",
   "metadata": {},
   "outputs": [
    {
     "data": {
      "text/plain": [
       "Tags\n",
       "Museums and Attraction                                                                        317\n",
       "Historic Houses and Castle,Castle                                                             191\n",
       "Gardening,Nature and Wildlife,Gardens,Garden                                                  167\n",
       "Beach                                                                                         158\n",
       "Discovery Point                                                                               158\n",
       "                                                                                             ... \n",
       "Activity Operator,Learning,Museums and Attraction                                               1\n",
       "Activity Operator,Kayaking,Learning,Museums and Attraction,Sailing                              1\n",
       "Activity Operator,Natural Landscape,Tour,Walking                                                1\n",
       "Activity Operator,Climbing,Kitesurfing,Windsurfing,Learning,Museums and Attraction,Surfing      1\n",
       "Craft,Shopping,Art Gallery,Learning,Museums and Attraction,Photography                          1\n",
       "Name: count, Length: 148, dtype: int64"
      ]
     },
     "execution_count": 5,
     "metadata": {},
     "output_type": "execute_result"
    }
   ],
   "source": [
    "Attractions_df['Tags'].value_counts()"
   ]
  },
  {
   "cell_type": "code",
   "execution_count": 6,
   "id": "6fdb634e",
   "metadata": {},
   "outputs": [
    {
     "data": {
      "text/plain": [
       "AddressLocality\n",
       "Dublin City           26\n",
       "Dublin City Centre    26\n",
       "Kinsale               15\n",
       "Killarney             13\n",
       "Clonakilty            12\n",
       "                      ..\n",
       "Corrandulla            1\n",
       "Dunkineely             1\n",
       "Gortahork              1\n",
       "Stranorlar             1\n",
       "Foxrock                1\n",
       "Name: count, Length: 600, dtype: int64"
      ]
     },
     "execution_count": 6,
     "metadata": {},
     "output_type": "execute_result"
    }
   ],
   "source": [
    "Attractions_df['AddressLocality'].value_counts()"
   ]
  },
  {
   "cell_type": "code",
   "execution_count": 7,
   "id": "c1f56e5b",
   "metadata": {},
   "outputs": [
    {
     "name": "stdout",
     "output_type": "stream",
     "text": [
      "_id                  1\n",
      "Name                 1\n",
      "Url                340\n",
      "Telephone          425\n",
      "Longitude            1\n",
      "Latitude             1\n",
      "AddressRegion       14\n",
      "AddressLocality    618\n",
      "AddressCountry       1\n",
      "Tags                 1\n",
      "dtype: int64\n"
     ]
    }
   ],
   "source": [
    "print(Attractions_df.isnull().sum())"
   ]
  },
  {
   "cell_type": "code",
   "execution_count": null,
   "id": "4b722a36",
   "metadata": {},
   "outputs": [],
   "source": []
  }
 ],
 "metadata": {
  "kernelspec": {
   "display_name": "Python 3 (ipykernel)",
   "language": "python",
   "name": "python3"
  },
  "language_info": {
   "codemirror_mode": {
    "name": "ipython",
    "version": 3
   },
   "file_extension": ".py",
   "mimetype": "text/x-python",
   "name": "python",
   "nbconvert_exporter": "python",
   "pygments_lexer": "ipython3",
   "version": "3.11.5"
  }
 },
 "nbformat": 4,
 "nbformat_minor": 5
}
