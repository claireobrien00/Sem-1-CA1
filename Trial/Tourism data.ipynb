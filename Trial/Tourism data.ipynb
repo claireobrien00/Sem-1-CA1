{
 "cells": [
  {
   "cell_type": "code",
   "execution_count": 1,
   "id": "d353c747",
   "metadata": {},
   "outputs": [],
   "source": [
    "import pandas as pd #data manipulation\n",
    "import numpy as np #calculus and algebra\n",
    "import seaborn as sns\n",
    "import matplotlib.pyplot as plt\n",
    "\n",
    "df = pd.read_csv('TMQ09.20240323163028.csv')"
   ]
  },
  {
   "cell_type": "code",
   "execution_count": 2,
   "id": "d51b8f04",
   "metadata": {},
   "outputs": [
    {
     "data": {
      "text/html": [
       "<div>\n",
       "<style scoped>\n",
       "    .dataframe tbody tr th:only-of-type {\n",
       "        vertical-align: middle;\n",
       "    }\n",
       "\n",
       "    .dataframe tbody tr th {\n",
       "        vertical-align: top;\n",
       "    }\n",
       "\n",
       "    .dataframe thead th {\n",
       "        text-align: right;\n",
       "    }\n",
       "</style>\n",
       "<table border=\"1\" class=\"dataframe\">\n",
       "  <thead>\n",
       "    <tr style=\"text-align: right;\">\n",
       "      <th></th>\n",
       "      <th>C02173V02619</th>\n",
       "      <th>Area of Residence</th>\n",
       "      <th>TLIST(Q1)</th>\n",
       "      <th>Quarter</th>\n",
       "      <th>STATISTIC</th>\n",
       "      <th>Statistic Label</th>\n",
       "      <th>UNIT</th>\n",
       "      <th>VALUE</th>\n",
       "    </tr>\n",
       "  </thead>\n",
       "  <tbody>\n",
       "    <tr>\n",
       "      <th>0</th>\n",
       "      <td>-</td>\n",
       "      <td>All Countries</td>\n",
       "      <td>20121</td>\n",
       "      <td>2012Q1</td>\n",
       "      <td>TMQ09C1</td>\n",
       "      <td>Overseas Trips to Ireland by Non-Residents</td>\n",
       "      <td>Thousand</td>\n",
       "      <td>1167.0</td>\n",
       "    </tr>\n",
       "    <tr>\n",
       "      <th>1</th>\n",
       "      <td>-</td>\n",
       "      <td>All Countries</td>\n",
       "      <td>20121</td>\n",
       "      <td>2012Q1</td>\n",
       "      <td>TMQ09C2</td>\n",
       "      <td>Average Length of Stay by Overseas Travellers ...</td>\n",
       "      <td>Nights</td>\n",
       "      <td>6.8</td>\n",
       "    </tr>\n",
       "    <tr>\n",
       "      <th>2</th>\n",
       "      <td>-</td>\n",
       "      <td>All Countries</td>\n",
       "      <td>20121</td>\n",
       "      <td>2012Q1</td>\n",
       "      <td>TMQ09C3</td>\n",
       "      <td>Expenditure by Overseas Travellers in Ireland ...</td>\n",
       "      <td>Euro Million</td>\n",
       "      <td>483.0</td>\n",
       "    </tr>\n",
       "    <tr>\n",
       "      <th>3</th>\n",
       "      <td>-</td>\n",
       "      <td>All Countries</td>\n",
       "      <td>20122</td>\n",
       "      <td>2012Q2</td>\n",
       "      <td>TMQ09C1</td>\n",
       "      <td>Overseas Trips to Ireland by Non-Residents</td>\n",
       "      <td>Thousand</td>\n",
       "      <td>1817.0</td>\n",
       "    </tr>\n",
       "    <tr>\n",
       "      <th>4</th>\n",
       "      <td>-</td>\n",
       "      <td>All Countries</td>\n",
       "      <td>20122</td>\n",
       "      <td>2012Q2</td>\n",
       "      <td>TMQ09C2</td>\n",
       "      <td>Average Length of Stay by Overseas Travellers ...</td>\n",
       "      <td>Nights</td>\n",
       "      <td>7.0</td>\n",
       "    </tr>\n",
       "  </tbody>\n",
       "</table>\n",
       "</div>"
      ],
      "text/plain": [
       "  C02173V02619 Area of Residence  TLIST(Q1) Quarter STATISTIC   \n",
       "0            -     All Countries      20121  2012Q1   TMQ09C1  \\\n",
       "1            -     All Countries      20121  2012Q1   TMQ09C2   \n",
       "2            -     All Countries      20121  2012Q1   TMQ09C3   \n",
       "3            -     All Countries      20122  2012Q2   TMQ09C1   \n",
       "4            -     All Countries      20122  2012Q2   TMQ09C2   \n",
       "\n",
       "                                     Statistic Label          UNIT   VALUE  \n",
       "0         Overseas Trips to Ireland by Non-Residents      Thousand  1167.0  \n",
       "1  Average Length of Stay by Overseas Travellers ...        Nights     6.8  \n",
       "2  Expenditure by Overseas Travellers in Ireland ...  Euro Million   483.0  \n",
       "3         Overseas Trips to Ireland by Non-Residents      Thousand  1817.0  \n",
       "4  Average Length of Stay by Overseas Travellers ...        Nights     7.0  "
      ]
     },
     "execution_count": 2,
     "metadata": {},
     "output_type": "execute_result"
    }
   ],
   "source": [
    "df.head()"
   ]
  },
  {
   "cell_type": "code",
   "execution_count": 3,
   "id": "92296f8b",
   "metadata": {},
   "outputs": [
    {
     "data": {
      "text/plain": [
       "(864, 8)"
      ]
     },
     "execution_count": 3,
     "metadata": {},
     "output_type": "execute_result"
    }
   ],
   "source": [
    "df.shape"
   ]
  },
  {
   "cell_type": "code",
   "execution_count": 6,
   "id": "7d04c8e1",
   "metadata": {},
   "outputs": [
    {
     "name": "stdout",
     "output_type": "stream",
     "text": [
      "Statistic Label\n",
      "Average Length of Stay by Overseas Travellers to Ireland           288\n",
      "Expenditure by Overseas Travellers in Ireland (excluding fares)    288\n",
      "Overseas Trips to Ireland by Non-Residents                         288\n",
      "dtype: int64\n"
     ]
    }
   ],
   "source": [
    "print(df.groupby('Statistic Label').size())"
   ]
  },
  {
   "cell_type": "code",
   "execution_count": 7,
   "id": "c1125677",
   "metadata": {},
   "outputs": [
    {
     "data": {
      "text/plain": [
       "C02173V02619          object\n",
       "Area of Residence     object\n",
       "TLIST(Q1)              int64\n",
       "Quarter               object\n",
       "STATISTIC             object\n",
       "Statistic Label       object\n",
       "UNIT                  object\n",
       "VALUE                float64\n",
       "dtype: object"
      ]
     },
     "execution_count": 7,
     "metadata": {},
     "output_type": "execute_result"
    }
   ],
   "source": [
    "df.dtypes"
   ]
  },
  {
   "cell_type": "code",
   "execution_count": 10,
   "id": "e22a7914",
   "metadata": {},
   "outputs": [
    {
     "name": "stdout",
     "output_type": "stream",
     "text": [
      "C02173V02619         0\n",
      "Area of Residence    0\n",
      "TLIST(Q1)            0\n",
      "Quarter              0\n",
      "STATISTIC            0\n",
      "Statistic Label      0\n",
      "UNIT                 0\n",
      "VALUE                0\n",
      "dtype: int64\n"
     ]
    }
   ],
   "source": [
    "print(df.isnull().sum())"
   ]
  },
  {
   "cell_type": "code",
   "execution_count": null,
   "id": "5a0af2a4",
   "metadata": {},
   "outputs": [],
   "source": []
  }
 ],
 "metadata": {
  "kernelspec": {
   "display_name": "Python 3 (ipykernel)",
   "language": "python",
   "name": "python3"
  },
  "language_info": {
   "codemirror_mode": {
    "name": "ipython",
    "version": 3
   },
   "file_extension": ".py",
   "mimetype": "text/x-python",
   "name": "python",
   "nbconvert_exporter": "python",
   "pygments_lexer": "ipython3",
   "version": "3.11.5"
  }
 },
 "nbformat": 4,
 "nbformat_minor": 5
}
